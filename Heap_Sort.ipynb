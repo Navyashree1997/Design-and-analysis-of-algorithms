{
 "cells": [
  {
   "cell_type": "code",
   "execution_count": 6,
   "metadata": {},
   "outputs": [],
   "source": [
    "import time\n",
    "import random\n",
    "from numpy.random import randint\n",
    "import matplotlib.pyplot as plt"
   ]
  },
  {
   "cell_type": "code",
   "execution_count": 7,
   "metadata": {},
   "outputs": [],
   "source": [
    "def swap_elements(input,i,j):\n",
    "    temp=input[i]\n",
    "    input[i]=input[j]\n",
    "    input[j]=temp"
   ]
  },
  {
   "cell_type": "code",
   "execution_count": 8,
   "metadata": {},
   "outputs": [],
   "source": [
    "def maxheap(input,parent_node, uper_node):\n",
    "    while(True):\n",
    "        left_node=parent_node*2+1\n",
    "        right_node=parent_node*2+2\n",
    "        if max(left_node,right_node)<uper_node:\n",
    "            if input[parent_node]>=max(input[left_node],input[right_node]):\n",
    "                break\n",
    "            elif input[left_node] > input[right_node]:\n",
    "                swap_elements(input, parent_node,left_node)\n",
    "                parent_node=left_node\n",
    "            else:\n",
    "                swap_elements(input, parent_node,right_node)\n",
    "                parent_node=right_node\n",
    "        elif left_node<uper_node:\n",
    "            if input[left_node]>input[parent_node]:\n",
    "                swap_elements(input, parent_node,left_node)\n",
    "                parent_node=left_node\n",
    "            else:\n",
    "                break\n",
    "        elif right_node<uper_node:\n",
    "            if input[right_node]>input[parent_node]:\n",
    "                swap_elements(input,parent_node,right_node)\n",
    "                parent_node=right_node\n",
    "            else:\n",
    "                break\n",
    "        else:\n",
    "            break  "
   ]
  },
  {
   "cell_type": "code",
   "execution_count": 9,
   "metadata": {},
   "outputs": [],
   "source": [
    "def HeapSort(input):\n",
    "    for i in range((len(input)//2),-1,-1):\n",
    "        maxheap(input,i,len(input))\n",
    "    for j in range(len(input)-1,0,-1):\n",
    "        swap_elements(input,0,j)\n",
    "        maxheap(input,0,j)"
   ]
  },
  {
   "cell_type": "code",
   "execution_count": 10,
   "metadata": {},
   "outputs": [
    {
     "name": "stderr",
     "output_type": "stream",
     "text": [
      "C:\\Users\\Administrator\\Anaconda3\\lib\\site-packages\\ipykernel_launcher.py:5: DeprecationWarning: time.clock has been deprecated in Python 3.3 and will be removed from Python 3.8: use time.perf_counter or time.process_time instead\n",
      "  \"\"\"\n",
      "C:\\Users\\Administrator\\Anaconda3\\lib\\site-packages\\ipykernel_launcher.py:7: DeprecationWarning: time.clock has been deprecated in Python 3.3 and will be removed from Python 3.8: use time.perf_counter or time.process_time instead\n",
      "  import sys\n"
     ]
    },
    {
     "name": "stdout",
     "output_type": "stream",
     "text": [
      "100 Elements Heap Sort time:  0.00181940000038594\n",
      "200 Elements Heap Sort time:  0.004087499999513966\n",
      "300 Elements Heap Sort time:  0.0051640999990922865\n",
      "400 Elements Heap Sort time:  0.005226600000241888\n",
      "500 Elements Heap Sort time:  0.009618500000215136\n",
      "600 Elements Heap Sort time:  0.009909100001095794\n",
      "700 Elements Heap Sort time:  0.015669500000512926\n",
      "800 Elements Heap Sort time:  0.012400900001011905\n",
      "900 Elements Heap Sort time:  0.017374900000504567\n"
     ]
    },
    {
     "data": {
      "image/png": "[encoded data removed]",
      "text/plain": [
       "<Figure size 432x288 with 1 Axes>"
      ]
     },
     "metadata": {
      "needs_background": "light"
     },
     "output_type": "display_data"
    }
   ],
   "source": [
    "input_length = list()\n",
    "exec_time = list()\n",
    "for i in range(1, 10):\n",
    "    test_array = randint(0, 100 * i, 100 * i)\n",
    "    strt_time = time.clock()\n",
    "    HeapSort(test_array)\n",
    "    end_time = time.clock()\n",
    "    print(len(test_array), \"Elements Heap Sort time: \", end_time-strt_time)\n",
    "    input_length.append(len(test_array))\n",
    "    exec_time.append(end_time-strt_time)\n",
    "    \n",
    "#plotting the graph\n",
    "plt.xlabel('Length of input')\n",
    "plt.ylabel('Time Complexity in seconds')\n",
    "plt.plot(input_length,exec_time, label ='Heap Sort')\n",
    "plt.grid()\n",
    "plt.legend()\n",
    "plt.show()"
   ]
  },
  {
   "cell_type": "code",
   "execution_count": null,
   "metadata": {},
   "outputs": [],
   "source": []
  }
 ],
 "metadata": {
  "kernelspec": {
   "display_name": "Python 3",
   "language": "python",
   "name": "python3"
  },
  "language_info": {
   "codemirror_mode": {
    "name": "ipython",
    "version": 3
   },
   "file_extension": ".py",
   "mimetype": "text/x-python",
   "name": "python",
   "nbconvert_exporter": "python",
   "pygments_lexer": "ipython3",
   "version": "3.7.4"
  }
 },
 "nbformat": 4,
 "nbformat_minor": 2
}
