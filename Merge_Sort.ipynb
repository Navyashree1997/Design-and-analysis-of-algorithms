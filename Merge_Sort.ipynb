{
 "cells": [
  {
   "cell_type": "code",
   "execution_count": 13,
   "metadata": {},
   "outputs": [],
   "source": [
    "import time\n",
    "import random\n",
    "from numpy.random import randint\n",
    "import matplotlib.pyplot as plt"
   ]
  },
  {
   "cell_type": "code",
   "execution_count": 14,
   "metadata": {},
   "outputs": [],
   "source": [
    "def merge_sorting(input):\n",
    "    #if length of the array is less than or equal to one element\n",
    "    if len(input)<=1:\n",
    "        return input\n",
    "        \n",
    "    if len(input) > 1:\n",
    "        pivot_element = len(input)//2\n",
    "        first_half = input[:pivot_element]\n",
    "        second_half = input[pivot_element:]\n",
    "        merge_sorting(first_half)\n",
    "        merge_sorting(second_half)\n",
    "  \n",
    "        i = 0\n",
    "        j = 0\n",
    "        k = 0\n",
    "  \n",
    "        while i < len(first_half) and j < len(second_half):\n",
    "            if first_half[i] < second_half[j]:\n",
    "                input[k] = first_half[i]\n",
    "                i += 1\n",
    "            else:\n",
    "                input[k] = second_half[j]\n",
    "                j += 1\n",
    "            k += 1\n",
    "  \n",
    "        while i < len(first_half):\n",
    "            input[k] = first_half[i]\n",
    "            i += 1\n",
    "            k += 1\n",
    "  \n",
    "        while j < len(second_half):\n",
    "            input[k] = second_half[j]\n",
    "            j += 1\n",
    "            k += 1"
   ]
  },
  {
   "cell_type": "code",
   "execution_count": 15,
   "metadata": {},
   "outputs": [
    {
     "name": "stdout",
     "output_type": "stream",
     "text": [
      "100  elements Merge Sort time:  0.0006222999999963008\n",
      "200  elements Merge Sort time:  0.0026269999999968263\n",
      "300  elements Merge Sort time:  0.003198000000004697\n",
      "400  elements Merge Sort time:  0.004315800000000536\n",
      "500  elements Merge Sort time:  0.003933500000002255\n",
      "600  elements Merge Sort time:  0.004615799999996284\n",
      "700  elements Merge Sort time:  0.00471809999999806\n",
      "800  elements Merge Sort time:  0.006503600000002052\n",
      "900  elements Merge Sort time:  0.006606600000004903\n"
     ]
    },
    {
     "name": "stderr",
     "output_type": "stream",
     "text": [
      "C:\\Users\\Administrator\\Anaconda3\\lib\\site-packages\\ipykernel_launcher.py:5: DeprecationWarning: time.clock has been deprecated in Python 3.3 and will be removed from Python 3.8: use time.perf_counter or time.process_time instead\n",
      "  \"\"\"\n",
      "C:\\Users\\Administrator\\Anaconda3\\lib\\site-packages\\ipykernel_launcher.py:7: DeprecationWarning: time.clock has been deprecated in Python 3.3 and will be removed from Python 3.8: use time.perf_counter or time.process_time instead\n",
      "  import sys\n"
     ]
    },
    {
     "data": {
      "image/png": "[encoded data removed]",
      "text/plain": [
       "<Figure size 432x288 with 1 Axes>"
      ]
     },
     "metadata": {
      "needs_background": "light"
     },
     "output_type": "display_data"
    }
   ],
   "source": [
    "input_length = list()\n",
    "exec_time = list()\n",
    "for i in range(1, 10):\n",
    "    test_array = randint(0, 100 * i, 100 * i)\n",
    "    strt_time = time.clock()\n",
    "    merge_sorting(test_array)\n",
    "    end_time = time.clock()\n",
    "    print(len(test_array), \" elements Merge Sort time: \", end_time-strt_time)\n",
    "    input_length.append(len(test_array))\n",
    "    exec_time.append(end_time-strt_time)\n",
    "    \n",
    "#plotting the graph\n",
    "plt.xlabel('Length of input')\n",
    "plt.ylabel('Time Complexity in seconds')\n",
    "plt.plot(input_length,exec_time, label ='Merge Sort')\n",
    "plt.grid()\n",
    "plt.legend()\n",
    "plt.show()"
   ]
  },
  {
   "cell_type": "code",
   "execution_count": null,
   "metadata": {},
   "outputs": [],
   "source": []
  }
 ],
 "metadata": {
  "kernelspec": {
   "display_name": "Python 3",
   "language": "python",
   "name": "python3"
  },
  "language_info": {
   "codemirror_mode": {
    "name": "ipython",
    "version": 3
   },
   "file_extension": ".py",
   "mimetype": "text/x-python",
   "name": "python",
   "nbconvert_exporter": "python",
   "pygments_lexer": "ipython3",
   "version": "3.7.4"
  }
 },
 "nbformat": 4,
 "nbformat_minor": 2
}
