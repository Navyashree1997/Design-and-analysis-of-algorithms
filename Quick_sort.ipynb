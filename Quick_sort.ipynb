{
 "cells": [
  {
   "cell_type": "code",
   "execution_count": 5,
   "metadata": {},
   "outputs": [],
   "source": [
    "import time\n",
    "import random\n",
    "from numpy.random import randint\n",
    "import matplotlib.pyplot as plt"
   ]
  },
  {
   "cell_type": "code",
   "execution_count": 6,
   "metadata": {},
   "outputs": [],
   "source": [
    "def partition(input, left, right):\n",
    "    index_of_pivot = random.randint(0,right-left)+left\n",
    "    i=left\n",
    "    j=right-1\n",
    "    pivot=input[index_of_pivot]\n",
    "    input[index_of_pivot],input[right]=input[right],input[index_of_pivot]\n",
    "    while i<j:\n",
    "        while i<right and input[i]<pivot:\n",
    "            i+=1\n",
    "        while j>left and input[j]>=pivot:\n",
    "            j-=1\n",
    "        if i<j:\n",
    "            input[i],input[j]=input[j],input[i]\n",
    "    if input[i] > pivot:\n",
    "        input[i], input[right]=input[right],input[i]\n",
    "    return i"
   ]
  },
  {
   "cell_type": "code",
   "execution_count": 7,
   "metadata": {},
   "outputs": [],
   "source": [
    "def QuickSort(input,left,right):\n",
    "    if left<right:\n",
    "        part_pos=partition(input,left,right)\n",
    "        QuickSort(input,left,part_pos-1)\n",
    "        QuickSort(input,part_pos+1,right)"
   ]
  },
  {
   "cell_type": "code",
   "execution_count": 8,
   "metadata": {},
   "outputs": [
    {
     "name": "stderr",
     "output_type": "stream",
     "text": [
      "C:\\Users\\Administrator\\Anaconda3\\lib\\site-packages\\ipykernel_launcher.py:5: DeprecationWarning: time.clock has been deprecated in Python 3.3 and will be removed from Python 3.8: use time.perf_counter or time.process_time instead\n",
      "  \"\"\"\n",
      "C:\\Users\\Administrator\\Anaconda3\\lib\\site-packages\\ipykernel_launcher.py:7: DeprecationWarning: time.clock has been deprecated in Python 3.3 and will be removed from Python 3.8: use time.perf_counter or time.process_time instead\n",
      "  import sys\n"
     ]
    },
    {
     "name": "stdout",
     "output_type": "stream",
     "text": [
      "100 Elements Quick Sort time:  0.0012130999999993008\n",
      "200 Elements Quick Sort time:  0.0022897999999997865\n",
      "300 Elements Quick Sort time:  0.0027062999999998283\n",
      "400 Elements Quick Sort time:  0.004823500000000536\n",
      "500 Elements Quick Sort time:  0.006025700000000356\n",
      "600 Elements Quick Sort time:  0.007837699999999614\n",
      "700 Elements Quick Sort time:  0.007547900000000496\n",
      "800 Elements Quick Sort time:  0.004449900000000895\n",
      "900 Elements Quick Sort time:  0.006513700000001066\n"
     ]
    },
    {
     "data": {
      "image/png": "[encoded data removed]",
      "text/plain": [
       "<Figure size 432x288 with 1 Axes>"
      ]
     },
     "metadata": {
      "needs_background": "light"
     },
     "output_type": "display_data"
    }
   ],
   "source": [
    "input_length = list()\n",
    "exec_time = list()\n",
    "for i in range(1, 10):\n",
    "    test_array = randint(0, 100 * i, 100 * i)\n",
    "    strt_time = time.clock()\n",
    "    QuickSort(test_array,0,len(test_array)-1)\n",
    "    end_time = time.clock()\n",
    "    print(len(test_array), \"Elements Quick Sort time: \", end_time-strt_time)\n",
    "    input_length.append(len(test_array))\n",
    "    exec_time.append(end_time-strt_time)\n",
    "    \n",
    "#plotting the graph\n",
    "plt.xlabel('Length of input')\n",
    "plt.ylabel('Time Complexity in seconds')\n",
    "plt.plot(input_length,exec_time, label ='Quick Sort')\n",
    "plt.grid()\n",
    "plt.legend()\n",
    "plt.show()"
   ]
  },
  {
   "cell_type": "markdown",
   "metadata": {},
   "source": [
    "Quick sort with 3 medians"
   ]
  },
  {
   "cell_type": "code",
   "execution_count": 9,
   "metadata": {},
   "outputs": [],
   "source": [
    "def median(input, left, right):\n",
    "    mid = (right)//2\n",
    "    a = input[left]\n",
    "    b = input[mid]\n",
    "    c = input[right]\n",
    "    if a <= b <= c:\n",
    "        return b, mid\n",
    "    if c <= b <= a:\n",
    "        return b, mid\n",
    "    if a <= c <= b:\n",
    "        return c, right\n",
    "    if b <= c <= a:\n",
    "        return c, right\n",
    "    return a, left"
   ]
  },
  {
   "cell_type": "code",
   "execution_count": 10,
   "metadata": {},
   "outputs": [],
   "source": [
    "def Partition(input, left, right, ascending = True):\n",
    "    #print('Quicksort, Parameter L:')\n",
    "    #print(L)\n",
    "    result = 0 \n",
    "    pivot, pivot_index = median(input, left, right)\n",
    "    input[left], input[pivot_index] = input[pivot_index], input[left]\n",
    "    i = left + 1\n",
    "    for j in range(left+1, right, 1):\n",
    "        result += 1\n",
    "        if (ascending and input[j] < pivot) or (not ascending and input[j] > pivot):\n",
    "            input[i], input[j] = input[j], input[i]  \n",
    "            i += 1\n",
    "    input[left], input[i-1] = input[i-1], input[left] \n",
    "    return i - 1, result"
   ]
  },
  {
   "cell_type": "code",
   "execution_count": 11,
   "metadata": {},
   "outputs": [],
   "source": [
    "def QuickSort(input, left, right, ascending = True): \n",
    "    result = 0\n",
    "    if left < right: \n",
    "        pivot_location, result = Partition(input, left, right, ascending)  \n",
    "        result += QuickSort(input, left, pivot_location, ascending)  \n",
    "        result += QuickSort(input, pivot_location + 1, right, ascending)\n",
    "    return result"
   ]
  },
  {
   "cell_type": "code",
   "execution_count": 13,
   "metadata": {},
   "outputs": [
    {
     "name": "stdout",
     "output_type": "stream",
     "text": [
      "100 Elements Quick Sort with 3 medians time:  0.0007332999998652667\n",
      "200 Elements Quick Sort with 3 medians time:  0.0021568000001934706\n",
      "300 Elements Quick Sort with 3 medians time:  0.002673500000128115\n",
      "400 Elements Quick Sort with 3 medians time:  0.003203499999926862\n",
      "500 Elements Quick Sort with 3 medians time:  0.004341700000168203\n",
      "600 Elements Quick Sort with 3 medians time:  0.0058404999999766005\n",
      "700 Elements Quick Sort with 3 medians time:  0.004457600000023376\n",
      "800 Elements Quick Sort with 3 medians time:  0.006942900000012742\n",
      "900 Elements Quick Sort with 3 medians time:  0.006315699999959179\n"
     ]
    },
    {
     "name": "stderr",
     "output_type": "stream",
     "text": [
      "C:\\Users\\Administrator\\Anaconda3\\lib\\site-packages\\ipykernel_launcher.py:5: DeprecationWarning: time.clock has been deprecated in Python 3.3 and will be removed from Python 3.8: use time.perf_counter or time.process_time instead\n",
      "  \"\"\"\n",
      "C:\\Users\\Administrator\\Anaconda3\\lib\\site-packages\\ipykernel_launcher.py:7: DeprecationWarning: time.clock has been deprecated in Python 3.3 and will be removed from Python 3.8: use time.perf_counter or time.process_time instead\n",
      "  import sys\n"
     ]
    },
    {
     "data": {
      "image/png": "[encoded data removed]",
      "text/plain": [
       "<Figure size 432x288 with 1 Axes>"
      ]
     },
     "metadata": {
      "needs_background": "light"
     },
     "output_type": "display_data"
    }
   ],
   "source": [
    "input_length = list()\n",
    "exec_time = list()\n",
    "for i in range(1, 10):\n",
    "    test_array = randint(0, 100 * i, 100 * i)\n",
    "    strt_time = time.clock()\n",
    "    QuickSort(test_array,0,len(test_array)-1)\n",
    "    end_time = time.clock()\n",
    "    print(len(test_array), \"Elements Quick Sort with 3 medians time: \", end_time-strt_time)\n",
    "    input_length.append(len(test_array))\n",
    "    exec_time.append(end_time-strt_time)\n",
    "    \n",
    "#plotting the graph\n",
    "plt.xlabel('Length of input')\n",
    "plt.ylabel('Time Complexity in seconds')\n",
    "plt.plot(input_length,exec_time, label ='Quick Sort with 3 Medians')\n",
    "plt.grid()\n",
    "plt.legend()\n",
    "plt.show()"
   ]
  },
  {
   "cell_type": "code",
   "execution_count": null,
   "metadata": {},
   "outputs": [],
   "source": []
  }
 ],
 "metadata": {
  "kernelspec": {
   "display_name": "Python 3",
   "language": "python",
   "name": "python3"
  },
  "language_info": {
   "codemirror_mode": {
    "name": "ipython",
    "version": 3
   },
   "file_extension": ".py",
   "mimetype": "text/x-python",
   "name": "python",
   "nbconvert_exporter": "python",
   "pygments_lexer": "ipython3",
   "version": "3.7.4"
  }
 },
 "nbformat": 4,
 "nbformat_minor": 2
}
